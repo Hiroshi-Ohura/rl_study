{
 "cells": [
  {
   "cell_type": "code",
   "execution_count": null,
   "id": "bcea8573-4b90-4937-b00b-1f971b9c11c8",
   "metadata": {},
   "outputs": [],
   "source": [
    "%run welcome.py"
   ]
  },
  {
   "cell_type": "code",
   "execution_count": null,
   "id": "338049d0-56b9-4fc8-abb3-969f0a271530",
   "metadata": {},
   "outputs": [],
   "source": []
  }
 ],
 "metadata": {
  "kernelspec": {
   "display_name": "Python 3 (ipykernel)",
   "language": "python",
   "name": "python3"
  },
  "language_info": {
   "codemirror_mode": {
    "name": "ipython",
    "version": 3
   },
   "file_extension": ".py",
   "mimetype": "text/x-python",
   "name": "python",
   "nbconvert_exporter": "python",
   "pygments_lexer": "ipython3",
   "version": "3.9.10"
  }
 },
 "nbformat": 4,
 "nbformat_minor": 5
}
